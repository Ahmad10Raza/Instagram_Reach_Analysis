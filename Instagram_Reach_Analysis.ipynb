{
 "cells": [
  {
   "cell_type": "markdown",
   "metadata": {
    "id": "3yDIr3gWCaOn"
   },
   "source": [
    "# **Problem Satement** :)- Instagram Reach Analysis"
   ]
  },
  {
   "cell_type": "markdown",
   "metadata": {
    "id": "iu2rLDXTClcU"
   },
   "source": [
    "## **Description:**\n",
    "* **Instagram is one of the most popular social media applications today. People using Instagram professionally are using it for promoting their business, building a portfolio, blogging, and creating various kinds of content. As Instagram is a popular application used by millions of people with different niches, Instagram keeps changing to make itself better for the content creators and the users. But as this keeps changing, it affects the reach of our posts that affects us in the long run. So if a content creator wants to do well on Instagram in the long run, they have to look at the data of their Instagram reach. That is where the use of Data Science in social media comes in. If you want to learn how to use our Instagram data for the task of Instagram reach analysis, this article is for you. In this article, I will take you through Instagram Reach Analysis using Python, which will help content creators to understand how to adapt to the changes in Instagram in the long run.** "
   ]
  },
  {
   "cell_type": "markdown",
   "metadata": {
    "id": "DZZnj2HuDFn5"
   },
   "source": [
    "# 1. Importing Libraries"
   ]
  },
  {
   "cell_type": "code",
   "execution_count": null,
   "metadata": {
    "id": "NL8M2HzQB8S-"
   },
   "outputs": [],
   "source": [
    "import pandas as pd\n",
    "import numpy as np\n",
    "import seaborn as sns\n",
    "import plotly.express as px\n",
    "import matplotlib.pyplot as plt\n",
    "from wordcloud import WordCloud, STOPWORDS, ImageColorGenerator\n",
    "from sklearn.model_selection import train_test_split\n",
    "from sklearn.linear_model import PassiveAggressiveRegressor\n",
    "import warnings\n",
    "warnings.filterwarnings('ignore')"
   ]
  },
  {
   "cell_type": "markdown",
   "metadata": {
    "id": "ZWrqChDYGk3S"
   },
   "source": [
    "# 2. The DataSets"
   ]
  },
  {
   "cell_type": "markdown",
   "metadata": {
    "id": "dMUNj3EMGxYl"
   },
   "source": [
    "# 2.1. Datasets Information\n",
    "* **Impressions:** Number of impressions in a post (Reach)\n",
    "* **From Home:** Reach from home\n",
    "* **From Hashtags:** Reach from Hashtags\n",
    "* **From Explore:** Reach from Explore\n",
    "* **From Other:** Reach from other sources\n",
    "* **Saves:** Number of saves\n",
    "* **Comments:** Number of comments\n",
    "* **Shares:** Number of shares\n",
    "* **Likes:** Number of Likes\n",
    "* **Profile Visits:** Numer of profile visits from the post\n",
    "* **Follows:** Number of Follows from the post\n",
    "* **Caption:** Caption of the post\n",
    "* **Hashtags:** Hashtags used in the post\n"
   ]
  },
  {
   "cell_type": "markdown",
   "metadata": {
    "id": "aGZ0pP-iH9Ue"
   },
   "source": [
    "* **Note:** Here’s the Instagram Data we collected from the account of the founder of Statso.\n",
    "* [DataSets Link (Click Me)](https://statso.io/instagram-reach-analysis-case-study/)"
   ]
  },
  {
   "cell_type": "markdown",
   "metadata": {
    "id": "Lumpg2KlIJ4W"
   },
   "source": [
    "# 2.2. Reading Datsets"
   ]
  },
  {
   "cell_type": "code",
   "execution_count": null,
   "metadata": {
    "colab": {
     "base_uri": "https://localhost:8080/",
     "height": 0
    },
    "id": "9hzPhNqwIShT",
    "outputId": "f1c9b070-2492-4ec4-96de-29779d60f7f1"
   },
   "outputs": [],
   "source": [
    "#from google.colab import drive\n",
    "#drive.mount('/content/drive')"
   ]
  },
  {
   "cell_type": "code",
   "execution_count": null,
   "metadata": {
    "colab": {
     "base_uri": "https://localhost:8080/",
     "height": 354
    },
    "id": "T1rgf6zQDwoj",
    "outputId": "4b07e66d-c4b3-4cc1-8b54-c12b16349df1"
   },
   "outputs": [],
   "source": [
    "#df=pd.read_csv(\"/content/drive/MyDrive/Colab Notebooks/DS_PROJECT/Instagram_Reach_Analysis/Instagram data.csv\",encoding='cp1252')\n",
    "df=pd.read_csv(\"Instagram_data.csv\",encoding='cp1252')\n",
    "df.head()"
   ]
  },
  {
   "cell_type": "markdown",
   "metadata": {
    "id": "Ya4lmRClJOy1"
   },
   "source": [
    "# 2.3. Data Exploration"
   ]
  },
  {
   "cell_type": "code",
   "execution_count": null,
   "metadata": {
    "colab": {
     "base_uri": "https://localhost:8080/",
     "height": 0
    },
    "id": "hW3NA-25Il2v",
    "outputId": "9fa18e34-150c-43f6-fdf9-c647da174987"
   },
   "outputs": [],
   "source": [
    "df.info()"
   ]
  },
  {
   "cell_type": "markdown",
   "metadata": {
    "id": "4jmx1rJvJZ9M"
   },
   "source": [
    "* **Here All *Feature* is numeric but Caption and Hashtags is Object**"
   ]
  },
  {
   "cell_type": "markdown",
   "metadata": {
    "id": "UVLHl9ScJ1HG"
   },
   "source": [
    "* **Let's Check how nemeric feature related to each others**"
   ]
  },
  {
   "cell_type": "code",
   "execution_count": null,
   "metadata": {
    "colab": {
     "base_uri": "https://localhost:8080/",
     "height": 300
    },
    "id": "N4ozPxBPJWRY",
    "outputId": "464ac11f-3f04-4ff3-fbf6-7e6ad0ae0a73"
   },
   "outputs": [],
   "source": [
    "df.describe()"
   ]
  },
  {
   "cell_type": "markdown",
   "metadata": {
    "id": "w4lUhzZxKP4R"
   },
   "source": [
    "# 3. Handling Null Value"
   ]
  },
  {
   "cell_type": "code",
   "execution_count": null,
   "metadata": {
    "colab": {
     "base_uri": "https://localhost:8080/",
     "height": 0
    },
    "id": "Yh2jCDkkJ-Uc",
    "outputId": "c68a0734-109d-4b70-ceb9-8ab30af71e55"
   },
   "outputs": [],
   "source": [
    "df.isnull().sum()"
   ]
  },
  {
   "cell_type": "markdown",
   "metadata": {
    "id": "LoSOTqXpPJB6"
   },
   "source": [
    "* **There is no null vlaue**"
   ]
  },
  {
   "cell_type": "markdown",
   "metadata": {
    "id": "5SPaoMhrPWke"
   },
   "source": [
    "# 4. Data Visualization"
   ]
  },
  {
   "cell_type": "code",
   "execution_count": null,
   "metadata": {
    "id": "m-_27ueTKW6_"
   },
   "outputs": [],
   "source": [
    "plt.style.use('dark_background')\n",
    "plt.rcParams.update({'text.color':'white'})"
   ]
  },
  {
   "cell_type": "code",
   "execution_count": null,
   "metadata": {
    "colab": {
     "base_uri": "https://localhost:8080/",
     "height": 0
    },
    "id": "LjJTkHygt4dt",
    "outputId": "ee23d7de-cef9-4b0f-aefa-d51caa08936c"
   },
   "outputs": [],
   "source": [
    "df.columns.unique()"
   ]
  },
  {
   "cell_type": "code",
   "execution_count": null,
   "metadata": {
    "colab": {
     "base_uri": "https://localhost:8080/",
     "height": 406
    },
    "id": "_OreRzTWP63-",
    "outputId": "e254e487-b8c5-4a56-f080-4b5f8a0f835d"
   },
   "outputs": [],
   "source": [
    "plt.figure(figsize=(9,5))\n",
    "plt.title(\"Distribution Of Impression From Home\",weight=\"bold\",color='red')\n",
    "sns.distplot(df['From Home'],color='pink')\n",
    "plt.show()"
   ]
  },
  {
   "cell_type": "markdown",
   "metadata": {
    "id": "ttiNFDNwund9"
   },
   "source": [
    "* **The impressions I get from the home section on Instagram shows how much my posts reach my followers. Looking at the impressions from home, I can say it’s hard to reach all my followers daily**"
   ]
  },
  {
   "cell_type": "markdown",
   "metadata": {
    "id": "idW8VEpevCMM"
   },
   "source": [
    "* **Now let’s have a look at the distribution of the impressions I received from hashtags:**"
   ]
  },
  {
   "cell_type": "code",
   "execution_count": null,
   "metadata": {
    "colab": {
     "base_uri": "https://localhost:8080/",
     "height": 406
    },
    "id": "XxwnBeDatifF",
    "outputId": "41bc47f2-9e3c-4571-9d98-8edd97d0df6f"
   },
   "outputs": [],
   "source": [
    "plt.figure(figsize=(9,5))\n",
    "plt.title(\"Distribution Of Impression From Hashtags\",weight=\"bold\",color='red')\n",
    "sns.distplot(df['From Hashtags'],color='green')\n",
    "plt.show()"
   ]
  },
  {
   "cell_type": "markdown",
   "metadata": {
    "id": "B4hmw8Emv10W"
   },
   "source": [
    "* **Hashtags are tools we use to categorize our posts on Instagram so that we can reach more people based on the kind of content we are creating. Looking at hashtag impressions shows that not all posts can be reached using hashtags, but many new users can be reached from hashtags.**"
   ]
  },
  {
   "cell_type": "markdown",
   "metadata": {
    "id": "VOsdQ0xgwCic"
   },
   "source": [
    "* **Now let’s have a look at the distribution of impressions I have received from the explore section of Instagram:**"
   ]
  },
  {
   "cell_type": "code",
   "execution_count": null,
   "metadata": {
    "colab": {
     "base_uri": "https://localhost:8080/",
     "height": 406
    },
    "id": "2EgcdRGpvtqF",
    "outputId": "e93db5bc-68ac-47c7-cbff-b04afa802fc4"
   },
   "outputs": [],
   "source": [
    "plt.figure(figsize=(9,5))\n",
    "plt.title(\"Distribution Of Impression From Explore\",weight=\"bold\",color='red')\n",
    "sns.distplot(df['From Explore'],color='green')\n",
    "plt.show()"
   ]
  },
  {
   "cell_type": "markdown",
   "metadata": {
    "id": "YcNSqSNXwWDn"
   },
   "source": [
    "* **The explore section of Instagram is the recommendation system of Instagram. It recommends posts to the users based on their preferences and interests. By looking at the impressions I have received from the explore section, I can say that Instagram does not recommend our posts much to the users. Some posts have received a good reach from the explore section, but it’s still very low compared to the reach I receive from hashtags.**"
   ]
  },
  {
   "cell_type": "markdown",
   "metadata": {
    "id": "wWvzjgEvweXU"
   },
   "source": [
    "* **Now let’s have a look at the percentage of impressions I get from various sources on Instagram:**"
   ]
  },
  {
   "cell_type": "code",
   "execution_count": null,
   "metadata": {
    "colab": {
     "base_uri": "https://localhost:8080/",
     "height": 559
    },
    "id": "Sbu-WVaUwNtB",
    "outputId": "db076c5d-c3dd-460c-e0e1-c15349e898f2"
   },
   "outputs": [],
   "source": [
    "plt.figure(figsize=(9,5))\n",
    "home=df['From Home'].sum()\n",
    "hashtags=df['From Hashtags'].sum()\n",
    "explore=df['From Explore'].sum()\n",
    "other=df['From Other'].sum()\n",
    "\n",
    "labels=['From Home','From Hashtags','From Explore','From Other']\n",
    "values=[home,hashtags,explore,other]\n",
    "\n",
    "fig=px.pie(df,values=values,names=labels,\n",
    "           title='Impression On Instagram Posts From Varous Source')\n",
    "fig.show()"
   ]
  },
  {
   "cell_type": "markdown",
   "metadata": {
    "id": "3F9obOUzzM8e"
   },
   "source": [
    "* **So the above donut plot shows that almost 50 per cent of the reach is from my followers, 38.1 per cent is from hashtags, 9.14 per cent is from the explore section, and 3.01 per cent is from other sources.**"
   ]
  },
  {
   "cell_type": "markdown",
   "metadata": {
    "id": "L_jao5-CzXRN"
   },
   "source": [
    "# 5. Analyzing Content"
   ]
  },
  {
   "cell_type": "markdown",
   "metadata": {
    "id": "RP7pvYXRzikE"
   },
   "source": [
    "* **Now let’s analyze the content of my Instagram posts. The dataset has two columns, namely caption and hashtags, which will help us understand the kind of content I post on Instagram.**"
   ]
  },
  {
   "cell_type": "markdown",
   "metadata": {
    "id": "ddFiYKFz01Ph"
   },
   "source": [
    "* **Let’s create a wordcloud of the caption column to look at the most used words in the caption of my Instagram posts:**"
   ]
  },
  {
   "cell_type": "code",
   "execution_count": null,
   "metadata": {
    "colab": {
     "base_uri": "https://localhost:8080/",
     "height": 405
    },
    "id": "rc2l75UFyWjJ",
    "outputId": "6a8efbf8-cefa-4044-f029-cba57f183baa"
   },
   "outputs": [],
   "source": [
    "text=' '.join(i for i in df.Caption)\n",
    "stopwords=set(STOPWORDS)\n",
    "wordcloud=WordCloud(stopwords=stopwords).generate(text)\n",
    "plt.style.use('classic')\n",
    "plt.figure(figsize=(12,10))\n",
    "plt.imshow(wordcloud,interpolation='bilinear')\n",
    "plt.axis(\"off\")\n",
    "plt.show()"
   ]
  },
  {
   "cell_type": "markdown",
   "metadata": {
    "id": "YQeu0I9W2WCK"
   },
   "source": [
    "* **Now let’s create a wordcloud of the hashtags column to look at the most used hashtags in my Instagram posts:**"
   ]
  },
  {
   "cell_type": "code",
   "execution_count": null,
   "metadata": {
    "colab": {
     "base_uri": "https://localhost:8080/",
     "height": 405
    },
    "id": "zLNc6VUg0AfT",
    "outputId": "f37995b7-e1c6-4dcc-9c3e-99f9181f62e9"
   },
   "outputs": [],
   "source": [
    "text=' '.join(i for i in df.Hashtags)\n",
    "stopwords=set(STOPWORDS)\n",
    "wordcloud=WordCloud(stopwords=stopwords).generate(text)\n",
    "plt.style.use('classic')\n",
    "plt.figure(figsize=(12,10))\n",
    "plt.imshow(wordcloud,interpolation='bilinear')\n",
    "plt.axis(\"off\")\n",
    "plt.show()"
   ]
  },
  {
   "cell_type": "markdown",
   "metadata": {
    "id": "ijSV-69J2xsV"
   },
   "source": [
    "* # 6. Analyzing Relationships"
   ]
  },
  {
   "cell_type": "markdown",
   "metadata": {
    "id": "ZgkkhzOr3CaK"
   },
   "source": [
    "* **Now let’s analyze relationships to find the most important factors of our Instagram reach. It will also help us in understanding how the Instagram algorithm works.**"
   ]
  },
  {
   "cell_type": "markdown",
   "metadata": {
    "id": "3ZEceNVs3Hzb"
   },
   "source": [
    "* **Let’s have a look at the relationship between the number of likes and the number of impressions on my Instagram posts:**"
   ]
  },
  {
   "cell_type": "code",
   "execution_count": null,
   "metadata": {
    "colab": {
     "base_uri": "https://localhost:8080/",
     "height": 542
    },
    "id": "PnsvZsSm2sJk",
    "outputId": "2390530d-ec6a-4c46-c1b5-47aa36e333db"
   },
   "outputs": [],
   "source": [
    "figure = px.scatter(data_frame = df, x=\"Impressions\",\n",
    "                    y=\"Likes\", size=\"Likes\", trendline=\"ols\", \n",
    "                    title = \"Relationship Between Likes and Impressions\",template=\"plotly_dark\")\n",
    "figure.show()"
   ]
  },
  {
   "cell_type": "markdown",
   "metadata": {
    "id": "snR1zYBz3tBI"
   },
   "source": [
    "* **There is a linear relationship between the number of likes and the reach I got on Instagram**"
   ]
  },
  {
   "cell_type": "markdown",
   "metadata": {
    "id": "4mywaWZe3xya"
   },
   "source": [
    "* **Now let’s see the relationship between the number of comments and the number of impressions on my Instagram posts:**"
   ]
  },
  {
   "cell_type": "code",
   "execution_count": null,
   "metadata": {
    "colab": {
     "base_uri": "https://localhost:8080/",
     "height": 542
    },
    "id": "DW9YIQQO4Kt4",
    "outputId": "88b4b57b-75e8-4bad-f3f2-b3f47fb6fb92"
   },
   "outputs": [],
   "source": [
    "figure = px.scatter(data_frame = df, x=\"Impressions\",\n",
    "                    y=\"Comments\", size=\"Comments\", trendline=\"ols\", \n",
    "                    title = \"Relationship Between Comments and Total Impressions\",template=\"plotly_dark\")\n",
    "figure.show()"
   ]
  },
  {
   "cell_type": "markdown",
   "metadata": {
    "id": "tCbdQ_BA5awV"
   },
   "source": [
    "* **It looks like the number of comments we get on a post doesn’t affect its reach.**"
   ]
  },
  {
   "cell_type": "markdown",
   "metadata": {
    "id": "-zHSA4hz5dfH"
   },
   "source": [
    "* **let’s have a look at the relationship between the number of shares and the number of impressions:**"
   ]
  },
  {
   "cell_type": "code",
   "execution_count": null,
   "metadata": {
    "colab": {
     "base_uri": "https://localhost:8080/",
     "height": 542
    },
    "id": "0WxZhzVb5RGS",
    "outputId": "d9edfd5c-9092-4ec3-b305-dc08aa69a242"
   },
   "outputs": [],
   "source": [
    "figure = px.scatter(data_frame = df, x=\"Impressions\",\n",
    "                    y=\"Shares\", size=\"Shares\", trendline=\"ols\", \n",
    "                    title = \"Relationship Between Shares and Total Impressions\",template=\"plotly_dark\")\n",
    "figure.show()"
   ]
  },
  {
   "cell_type": "markdown",
   "metadata": {
    "id": "_6l68fRp54so"
   },
   "source": [
    "* **A more number of shares will result in a higher reach, but shares don’t affect the reach of a post as much as likes do.**"
   ]
  },
  {
   "cell_type": "markdown",
   "metadata": {
    "id": "nFi8rxUn6ArW"
   },
   "source": [
    "* **Now let’s have a look at the relationship between the number of saves and the number of impressions:**"
   ]
  },
  {
   "cell_type": "code",
   "execution_count": null,
   "metadata": {
    "colab": {
     "base_uri": "https://localhost:8080/",
     "height": 542
    },
    "id": "6ZCfScSt5moE",
    "outputId": "a9ef947a-6335-44d5-ad10-f13f906ee9ef"
   },
   "outputs": [],
   "source": [
    "figure = px.scatter(data_frame = df, x=\"Impressions\",\n",
    "                    y=\"Saves\", size=\"Saves\", trendline=\"ols\", \n",
    "                    title = \"Relationship Between Post Saves and Total Impressions\",template=\"plotly_dark\")\n",
    "figure.show()"
   ]
  },
  {
   "cell_type": "markdown",
   "metadata": {
    "id": "YJ-hYjXs6ibG"
   },
   "source": [
    "* **There is a linear relationship between the number of times my post is saved and the reach of my Instagram post.**"
   ]
  },
  {
   "cell_type": "markdown",
   "metadata": {
    "id": "tUqPwwrl6m3i"
   },
   "source": [
    "* **Now let’s have a look at the correlation of all the columns with the Impressions column:**"
   ]
  },
  {
   "cell_type": "code",
   "execution_count": null,
   "metadata": {
    "colab": {
     "base_uri": "https://localhost:8080/",
     "height": 0
    },
    "id": "CTeNAzeL6azk",
    "outputId": "1e43cd8b-70cc-45de-d35a-4a9811103e58"
   },
   "outputs": [],
   "source": [
    "correlation = df.corr()\n",
    "print(correlation[\"Impressions\"].sort_values(ascending=False))"
   ]
  },
  {
   "cell_type": "markdown",
   "metadata": {
    "id": "x-RDDX7L60zl"
   },
   "source": [
    "* **So we can say that more likes and saves will help you get more reach on Instagram. The higher number of shares will also help you get more reach, but a low number of shares will not affect your reach either.**"
   ]
  },
  {
   "cell_type": "markdown",
   "metadata": {
    "id": "54WMDA8K68Jg"
   },
   "source": [
    "# 7. Analyzing Conversion Rate"
   ]
  },
  {
   "cell_type": "markdown",
   "metadata": {
    "id": "RXb0sefS7FlR"
   },
   "source": [
    "#### **In Instagram, conversation rate means how many followers you are getting from the number of profile visits from a post. The formula that you can use to calculate conversion rate is (Follows/Profile Visits) * 100. Now let’s have a look at the conversation rate of my Instagram account:**"
   ]
  },
  {
   "cell_type": "code",
   "execution_count": null,
   "metadata": {
    "colab": {
     "base_uri": "https://localhost:8080/",
     "height": 0
    },
    "id": "_fI3O2ao6vVp",
    "outputId": "585471a2-86d1-4c19-a492-f52679850cbd"
   },
   "outputs": [],
   "source": [
    "conversion_rate = (df[\"Follows\"].sum() / df[\"Profile Visits\"].sum()) * 100\n",
    "print(conversion_rate)"
   ]
  },
  {
   "cell_type": "markdown",
   "metadata": {
    "id": "0WyNaghK7eEA"
   },
   "source": [
    "* **So the conversation rate of my Instagram account is 41% which sounds like a very good conversation rate.**"
   ]
  },
  {
   "cell_type": "code",
   "execution_count": null,
   "metadata": {
    "colab": {
     "base_uri": "https://localhost:8080/",
     "height": 542
    },
    "id": "DM1DnLML7Xoo",
    "outputId": "435ce7b5-bc03-48c6-826a-ab996bdcc0a8"
   },
   "outputs": [],
   "source": [
    "figure = px.scatter(data_frame = df, x=\"Profile Visits\",\n",
    "                    y=\"Follows\", size=\"Follows\", trendline=\"ols\", \n",
    "                    title = \"Relationship Between Profile Visits and Followers Gained\",template=\"plotly_dark\")\n",
    "figure.show()"
   ]
  },
  {
   "cell_type": "markdown",
   "metadata": {
    "id": "uZvzxv747_z2"
   },
   "source": [
    "* **The relationship between profile visits and followers gained is also linear.**"
   ]
  },
  {
   "cell_type": "markdown",
   "metadata": {
    "id": "lyo7HV218EOs"
   },
   "source": [
    "# 8. Model"
   ]
  },
  {
   "cell_type": "markdown",
   "metadata": {
    "id": "FvqCMmMg8NDA"
   },
   "source": [
    "* **Now in this section, I will train a machine learning model to predict the reach of an Instagram post.** \n",
    "* **Let’s split the data into training and test sets before training the model:**"
   ]
  },
  {
   "cell_type": "code",
   "execution_count": null,
   "metadata": {
    "id": "ImUshK1O7xmW"
   },
   "outputs": [],
   "source": [
    "x = np.array(df[['Likes', 'Saves', 'Comments', 'Shares', \n",
    "                   'Profile Visits', 'Follows']])\n",
    "y = np.array(df[\"Impressions\"])\n",
    "x_train, x_test, y_train, y_test = train_test_split(x, y, \n",
    "                                                test_size=0.2, \n",
    "                                                random_state=42)"
   ]
  },
  {
   "cell_type": "markdown",
   "metadata": {
    "id": "4fuPpqJR8jrc"
   },
   "source": [
    "* **Now here’s is how we can train a machine learning model to predict the reach of an Instagram post using Python:**"
   ]
  },
  {
   "cell_type": "code",
   "execution_count": null,
   "metadata": {
    "colab": {
     "base_uri": "https://localhost:8080/",
     "height": 0
    },
    "id": "HjkZ52ov8gqV",
    "outputId": "ec97e0c0-89f8-40b7-d216-fb07ff2e12fd"
   },
   "outputs": [],
   "source": [
    "model = PassiveAggressiveRegressor()\n",
    "model.fit(x_train, y_train)\n",
    "model.score(x_test, y_test)"
   ]
  },
  {
   "cell_type": "markdown",
   "metadata": {
    "id": "NFplQ1dD-kT4"
   },
   "source": [
    "# 9. Testing"
   ]
  },
  {
   "cell_type": "markdown",
   "metadata": {
    "id": "pIl0Kf5M-muj"
   },
   "source": [
    "* **Now let’s predict the reach of an Instagram post by giving inputs to the machine learning model:**"
   ]
  },
  {
   "cell_type": "code",
   "execution_count": null,
   "metadata": {
    "colab": {
     "base_uri": "https://localhost:8080/",
     "height": 0
    },
    "id": "ndNmYK0E-cFf",
    "outputId": "9061b599-0988-4934-e51d-1df7665a59d8"
   },
   "outputs": [],
   "source": [
    "# Features = [['Likes','Saves', 'Comments', 'Shares', 'Profile Visits', 'Follows']]\n",
    "features = np.array([[282.0, 233.0, 4.0, 9.0, 165.0, 54.0]])\n",
    "model.predict(features)"
   ]
  },
  {
   "cell_type": "markdown",
   "metadata": {
    "id": "i7N557Dg-usD"
   },
   "source": [
    "# **Reference**\n",
    "* [Aman Kahrwal (medium.com)](https://amankharwal.medium.com/)\n",
    "* [Google](https://www.google.com/)"
   ]
  },
  {
   "cell_type": "markdown",
   "metadata": {
    "id": "zP7pMOuQAjPi"
   },
   "source": [
    "# **THANK YOU**"
   ]
  }
 ],
 "metadata": {
  "colab": {
   "provenance": []
  },
  "kernelspec": {
   "display_name": "Python 3 (ipykernel)",
   "language": "python",
   "name": "python3"
  },
  "language_info": {
   "codemirror_mode": {
    "name": "ipython",
    "version": 3
   },
   "file_extension": ".py",
   "mimetype": "text/x-python",
   "name": "python",
   "nbconvert_exporter": "python",
   "pygments_lexer": "ipython3",
   "version": "3.11.2"
  }
 },
 "nbformat": 4,
 "nbformat_minor": 1
}
